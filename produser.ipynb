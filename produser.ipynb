{
 "cells": [
  {
   "cell_type": "code",
   "execution_count": 37,
   "outputs": [],
   "source": [
    "import requests\n",
    "import time\n",
    "import json\n",
    "from kafka import KafkaProducer\n"
   ],
   "metadata": {
    "collapsed": false,
    "ExecuteTime": {
     "start_time": "2023-04-29T10:52:52.689743Z",
     "end_time": "2023-04-29T10:52:52.700652Z"
    }
   }
  },
  {
   "cell_type": "code",
   "execution_count": 38,
   "outputs": [],
   "source": [
    "topic_name = 'volume_data'\n",
    "bootstrap_servers = ['localhost:9092'] # адрес сервера Kafka"
   ],
   "metadata": {
    "collapsed": false,
    "ExecuteTime": {
     "start_time": "2023-04-29T10:52:53.782661Z",
     "end_time": "2023-04-29T10:52:53.788644Z"
    }
   }
  },
  {
   "cell_type": "code",
   "execution_count": 39,
   "metadata": {
    "collapsed": true,
    "ExecuteTime": {
     "start_time": "2023-04-29T10:52:54.385349Z",
     "end_time": "2023-04-29T10:52:54.389952Z"
    }
   },
   "outputs": [],
   "source": [
    "\n",
    "# Функция для получения списка всех бирж\n",
    "def get_exchanges():\n",
    "    url = \"https://api.coingecko.com/api/v3/exchanges\"\n",
    "    response = requests.get(url)\n",
    "    exchanges = response.json()\n",
    "    exchange_list = [exchange['id'] for exchange in exchanges]\n",
    "    return exchange_list\n",
    "\n",
    "\n",
    "# Функция для получения информации об объемах торгов за один последний день на бирже\n",
    "def get_volume_one_day(exchange_id):\n",
    "    url = f\"https://api.coingecko.com/api/v3/exchanges/{exchange_id}/volume_chart?days=1\"\n",
    "    response = requests.get(url)\n",
    "    volume_one_day_data = response.json()\n",
    "    return {exchange_id: volume_one_day_data}\n",
    "\n",
    "\n",
    "# Генератор для сбора информации об объемах торгов за последний день на всех биржах\n",
    "def generate_volume_data():\n",
    "    exchange_list = get_exchanges()\n",
    "    for exchange in exchange_list:\n",
    "        time.sleep(7)\n",
    "        volume_one_day_data = get_volume_one_day(exchange)\n",
    "        yield json.dumps(volume_one_day_data).encode('utf-8')\n",
    "\n",
    "\n",
    "\n",
    "    # Функция для отправки данных в Kafka\n",
    "def send_data_kafka(topic_name, bootstrap_servers, data_generator):\n",
    "    producer = KafkaProducer(bootstrap_servers=bootstrap_servers)\n",
    "    for data in data_generator:\n",
    "        producer.send(topic_name, data)\n",
    "        time.sleep(1)  # добавляем задержку в 1 секунду между отправками, чтобы не перегрузить Kafka\n",
    "    producer.flush()\n"
   ]
  },
  {
   "cell_type": "code",
   "execution_count": null,
   "outputs": [],
   "source": [
    "# Отправляем данные в Kafka\n",
    "\n",
    "data_generator = generate_volume_data()\n",
    "send_data_kafka(topic_name, bootstrap_servers, data_generator)"
   ],
   "metadata": {
    "collapsed": false,
    "ExecuteTime": {
     "start_time": "2023-04-29T10:13:58.551786Z",
     "end_time": "2023-04-29T10:28:10.277528Z"
    }
   }
  },
  {
   "cell_type": "code",
   "execution_count": 1,
   "outputs": [
    {
     "name": "stdout",
     "output_type": "stream",
     "text": [
      "Collecting confluent-kafka\r\n",
      "  Using cached confluent_kafka-2.1.0-cp310-cp310-macosx_11_0_arm64.whl (2.8 MB)\r\n",
      "Installing collected packages: confluent-kafka\r\n",
      "Successfully installed confluent-kafka-2.1.0\r\n"
     ]
    }
   ],
   "source": [
    "!pip install confluent-kafka\n"
   ],
   "metadata": {
    "collapsed": false
   }
  }
 ],
 "metadata": {
  "kernelspec": {
   "display_name": "Python 3",
   "language": "python",
   "name": "python3"
  },
  "language_info": {
   "codemirror_mode": {
    "name": "ipython",
    "version": 2
   },
   "file_extension": ".py",
   "mimetype": "text/x-python",
   "name": "python",
   "nbconvert_exporter": "python",
   "pygments_lexer": "ipython2",
   "version": "2.7.6"
  }
 },
 "nbformat": 4,
 "nbformat_minor": 0
}
